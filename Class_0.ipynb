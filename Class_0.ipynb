{
  "nbformat": 4,
  "nbformat_minor": 0,
  "metadata": {
    "colab": {
      "provenance": []
    },
    "kernelspec": {
      "name": "python3",
      "display_name": "Python 3"
    },
    "language_info": {
      "name": "python"
    }
  },
  "cells": [
    {
      "cell_type": "markdown",
      "source": [
        "# Python簡介\n",
        "\n",
        "\n",
        "\n"
      ],
      "metadata": {
        "id": "_0sr32J919MA"
      }
    },
    {
      "cell_type": "markdown",
      "source": [
        "## Python的版本演進\n",
        "- python2\n",
        "- python3"
      ],
      "metadata": {
        "id": "7q0-H7k33wlq"
      }
    },
    {
      "cell_type": "markdown",
      "source": [
        "## python的特點和優勢\n",
        "- 簡單易讀的語法\n",
        "- 縮排風格\n",
        "- 跨平台\n",
        "- 強大的第三方社群（如NumPy、Pandas、Matplotlib等）\n",
        "- 易於學習"
      ],
      "metadata": {
        "id": "_JJbA6DI3oiC"
      }
    },
    {
      "cell_type": "markdown",
      "source": [
        "## python在不同領域的應用(mokumoku)\n",
        "- 資料科學和機器學習\n",
        "  - Scikit-learn、TensorFlow、PyTorch\n",
        "- 網頁開發和後端服務\n",
        "  - Flask,Django\n",
        "- 自動化和腳本編寫\n",
        "  - crawler,script\n",
        "- 遊戲開發和圖形化應用\n",
        "  - pygame"
      ],
      "metadata": {
        "id": "QD6ApDPR3pl5"
      }
    },
    {
      "cell_type": "markdown",
      "source": [
        "# Python的環境概述"
      ],
      "metadata": {
        "id": "nwhZ2exP4acS"
      }
    },
    {
      "cell_type": "markdown",
      "source": [
        "## 開發Python程式的工具\n",
        "- 文本編輯器(IDE集成開發環境)\n",
        "  - vscode(大推), pycharm...\n",
        "  \n",
        "- Jupyter Notebook\n",
        "  - 交互性強，即時顯示結果\n",
        "  - 常用於數據分析、教育和演示\n",
        "  - colab\n",
        "\n"
      ],
      "metadata": {
        "id": "L_sw003l3chI"
      }
    },
    {
      "cell_type": "markdown",
      "source": [
        "# Python特性(小白)\n",
        "\n",
        "\n",
        "\n",
        "\n",
        "\n"
      ],
      "metadata": {
        "id": "qA63jWtU6IVy"
      }
    },
    {
      "cell_type": "markdown",
      "source": [
        "## 簡單易學的語法\n",
        "- 縮排\n",
        "- 少關鍵字"
      ],
      "metadata": {
        "id": "xah-qvkv76RD"
      }
    },
    {
      "cell_type": "code",
      "source": [
        "for i in range(3):\n",
        "  print(i)\n",
        "# 縮排"
      ],
      "metadata": {
        "id": "vY6pxYFs5VCC"
      },
      "execution_count": null,
      "outputs": []
    },
    {
      "cell_type": "markdown",
      "source": [
        "## 支持OOP\n",
        "- 可將程式碼模組化，提高可用性和可維護性\n",
        "\n"
      ],
      "metadata": {
        "id": "UAMnr7H07Qc2"
      }
    },
    {
      "cell_type": "code",
      "source": [
        "class Human():\n",
        "  def __init__(self,name):\n",
        "    self.name = name\n",
        "\n",
        "  def sleep(self):\n",
        "    print(\"zzz\")\n"
      ],
      "metadata": {
        "id": "QGm_STLn7ScF"
      },
      "execution_count": 18,
      "outputs": []
    },
    {
      "cell_type": "code",
      "source": [
        "p = Human(\"people A\")"
      ],
      "metadata": {
        "id": "sgNPyZZCACDg"
      },
      "execution_count": 19,
      "outputs": []
    },
    {
      "cell_type": "code",
      "source": [
        "p.sleep()"
      ],
      "metadata": {
        "colab": {
          "base_uri": "https://localhost:8080/"
        },
        "id": "ZgmJSDWdAxHh",
        "outputId": "6110748f-a318-43e8-bebf-2fee220c1c4c"
      },
      "execution_count": 20,
      "outputs": [
        {
          "output_type": "stream",
          "name": "stdout",
          "text": [
            "zzz\n"
          ]
        }
      ]
    },
    {
      "cell_type": "code",
      "source": [
        "p.name"
      ],
      "metadata": {
        "colab": {
          "base_uri": "https://localhost:8080/",
          "height": 35
        },
        "id": "6vcLR3H9BMo_",
        "outputId": "adcd965e-5772-47e6-d1c2-9650dfb05111"
      },
      "execution_count": 21,
      "outputs": [
        {
          "output_type": "execute_result",
          "data": {
            "text/plain": [
              "'people A'"
            ],
            "application/vnd.google.colaboratory.intrinsic+json": {
              "type": "string"
            }
          },
          "metadata": {},
          "execution_count": 21
        }
      ]
    },
    {
      "cell_type": "markdown",
      "source": [
        "## 動態型別(巨方便！)\n",
        "- 不需事先聲明變數的類別\n",
        "- 可動態賦予、修改變數的類型\n",
        "\n"
      ],
      "metadata": {
        "id": "0T1FITCK7So0"
      }
    },
    {
      "cell_type": "code",
      "source": [
        "a = 0 #int\n",
        "print(a)\n",
        "\n",
        "a = 1.1 #float\n",
        "print(a)\n",
        "\n",
        "a = \"s\" #String\n",
        "print(a)\n",
        "\n",
        "a = p # Objact\n",
        "print(a)\n",
        "\n",
        "# Java\n",
        "# String a = \"s\"\n",
        "# int a = 0"
      ],
      "metadata": {
        "colab": {
          "base_uri": "https://localhost:8080/"
        },
        "id": "AK9zRti47UU7",
        "outputId": "98371da2-3b19-4c85-ef52-a10519632ad5"
      },
      "execution_count": 25,
      "outputs": [
        {
          "output_type": "stream",
          "name": "stdout",
          "text": [
            "0\n",
            "1.1\n",
            "s\n",
            "<__main__.Human object at 0x7aa5476a33d0>\n"
          ]
        }
      ]
    },
    {
      "cell_type": "markdown",
      "source": [
        "## 第三方庫pypi\n",
        "- 不要重複造輪子\n",
        "- 包括操作系統、文件處理、網路通信、數據結構等各個方面的模塊和工具，可直接使用"
      ],
      "metadata": {
        "id": "xigM_SO17YMG"
      }
    },
    {
      "cell_type": "code",
      "source": [
        "!pip install requests beautifulsoup4"
      ],
      "metadata": {
        "colab": {
          "base_uri": "https://localhost:8080/"
        },
        "id": "2eambh2-7adg",
        "outputId": "0eadd8e8-cdc1-46e1-d794-8f4d2ee83e87"
      },
      "execution_count": 32,
      "outputs": [
        {
          "output_type": "stream",
          "name": "stdout",
          "text": [
            "Requirement already satisfied: requests in /usr/local/lib/python3.10/dist-packages (2.31.0)\n",
            "Requirement already satisfied: beautifulsoup4 in /usr/local/lib/python3.10/dist-packages (4.12.3)\n",
            "Requirement already satisfied: charset-normalizer<4,>=2 in /usr/local/lib/python3.10/dist-packages (from requests) (3.3.2)\n",
            "Requirement already satisfied: idna<4,>=2.5 in /usr/local/lib/python3.10/dist-packages (from requests) (3.6)\n",
            "Requirement already satisfied: urllib3<3,>=1.21.1 in /usr/local/lib/python3.10/dist-packages (from requests) (2.0.7)\n",
            "Requirement already satisfied: certifi>=2017.4.17 in /usr/local/lib/python3.10/dist-packages (from requests) (2024.2.2)\n",
            "Requirement already satisfied: soupsieve>1.2 in /usr/local/lib/python3.10/dist-packages (from beautifulsoup4) (2.5)\n"
          ]
        }
      ]
    },
    {
      "cell_type": "markdown",
      "source": [
        "\n",
        "## 相關網址、社群\n",
        "- github\n",
        "\n",
        "- [vscode](https://code.visualstudio.com/)\n",
        "\n",
        "- [python](https://www.python.org/)\n",
        "\n",
        "- [Anaconda](https://www.anaconda.com/download)"
      ],
      "metadata": {
        "id": "jFKhf7o28Ven"
      }
    },
    {
      "cell_type": "markdown",
      "source": [
        "# 額外補充"
      ],
      "metadata": {
        "id": "OXMRnQZK_PH-"
      }
    },
    {
      "cell_type": "markdown",
      "source": [
        "## Terminal & Path\n"
      ],
      "metadata": {
        "id": "Tn6cU6fhDhCh"
      }
    },
    {
      "cell_type": "markdown",
      "source": [
        "\n",
        "終端機(Terminal)：對應colab的block，通常會在這裡下指令，例如:git,pip...\n",
        "\n",
        "- ls:列出當前工作路徑下的檔案\n",
        "- cd:切換工作目錄\n",
        "\n",
        "<br/>\n",
        "\n",
        "目錄路徑(Path)：對應colab左邊資料夾\n",
        "切換工作目錄語法（以Desktop為例）\n",
        "- 絕對路徑：/User/Desktop/file\n",
        "- 相對路徑：./file\n",
        "- 回到上一層目錄：../\n"
      ],
      "metadata": {
        "id": "w4Ba80Q1FnjK"
      }
    },
    {
      "cell_type": "code",
      "source": [
        "# 查看當前python版本\n",
        "! python --version"
      ],
      "metadata": {
        "id": "nxLLI8I5-o8P"
      },
      "execution_count": null,
      "outputs": []
    },
    {
      "cell_type": "code",
      "source": [
        "# 查看當前工作路徑下的檔案\n",
        "! ls"
      ],
      "metadata": {
        "id": "nTeXJRo3-st5"
      },
      "execution_count": null,
      "outputs": []
    },
    {
      "cell_type": "code",
      "source": [
        "# 試看看切換目錄吧\n",
        "! ls ./sample_data"
      ],
      "metadata": {
        "id": "c7y2nC5--t3Q"
      },
      "execution_count": null,
      "outputs": []
    },
    {
      "cell_type": "markdown",
      "source": [
        "## 簡單爬蟲範例"
      ],
      "metadata": {
        "id": "r7BDM2DuCtFt"
      }
    },
    {
      "cell_type": "code",
      "source": [
        "import requests\n",
        "from bs4 import BeautifulSoup\n",
        "# 目標網頁的URL\n",
        "url = 'https://zh.wikipedia.org/wiki/Python'\n",
        "\n",
        "# 發送GET請求並獲取網頁內容\n",
        "response = requests.get(url)\n",
        "\n",
        "# 使用BeautifulSoup解析HTML內容\n",
        "soup = BeautifulSoup(response.text, 'html.parser')\n",
        "\n",
        "# 找到維基百科中Python語言的介紹文字所在的標籤\n",
        "intro_paragraph = soup.find('div', {'id': 'mw-content-text'}).find('p')\n",
        "\n",
        "# 輸出獲取的介紹文字\n",
        "print(intro_paragraph.text)"
      ],
      "metadata": {
        "colab": {
          "base_uri": "https://localhost:8080/"
        },
        "id": "t1udbW2sCtqM",
        "outputId": "057aa74f-41d7-4792-f4ab-42247bacb633"
      },
      "execution_count": 35,
      "outputs": [
        {
          "output_type": "stream",
          "name": "stdout",
          "text": [
            "Python（英國發音：/ˈpaɪθən/；美國發音：/ˈpaɪθɑːn/），是一种广泛使用的解释型、高级和通用的编程语言。Python支持多种编程范型，包括结构化、过程式、反射式、面向对象和函数式编程。它拥有动态类型系统和垃圾回收功能，能够自动管理内存使用，并且其本身拥有一个巨大而广泛的标准库。它的语言结构以及面向对象的方法，旨在帮助程序员为小型的和大型的项目编写逻辑清晰的代码。\n",
            "\n"
          ]
        }
      ]
    },
    {
      "cell_type": "code",
      "source": [],
      "metadata": {
        "id": "DvReEjdZCuZx"
      },
      "execution_count": null,
      "outputs": []
    }
  ]
}